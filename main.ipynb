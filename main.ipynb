{
 "cells": [
  {
   "cell_type": "code",
   "execution_count": 1,
   "metadata": {},
   "outputs": [],
   "source": [
    "# coding: utf-8\n",
    "import numpy as np\n",
    "import pandas as pd\n",
    "\n",
    "pd.set_option('display.max_rows', 45000)\n",
    "pd.set_option('display.max_columns', 50000)\n",
    "pd.set_option('display.max_colwidth', 5000)"
   ]
  },
  {
   "cell_type": "code",
   "execution_count": 62,
   "metadata": {},
   "outputs": [],
   "source": [
    "def elo_prob(rw=1600, rb=1600):\n",
    "    \"\"\"\n",
    "    base elo propability without chancging k for newcommets etc.\n",
    "    \"\"\"\n",
    "    rw = float(rw)\n",
    "    rb = float(rb)\n",
    "    res = 1 / (1 + np.power(10, (rb-rw) / 400))\n",
    "    return res\n",
    "\n",
    "def get_match(rating1=1600, rating2=1600, total=0, sigma=2.5):\n",
    "    \"\"\" \n",
    "    get match result according elo rating, total scores and sigma of probability distribution\n",
    "    \"\"\"\n",
    "    import random\n",
    "    import math\n",
    "\n",
    "    # base probability\n",
    "    # based on 100 elo meand approximately win on 1 goal (1-0, 2-1 etc.)\n",
    "    norn_factor = 15\n",
    "    mult_factor = 100\n",
    "    mu = mult_factor * (elo_prob(rating1, rating2) - 0.5) / norn_factor\n",
    "\n",
    "    # current different between teams in this proba\n",
    "    base_res = round(random.normalvariate(mu, sigma), 0)\n",
    "\n",
    "    # scores from total and diffs\n",
    "    if base_res > 0:\n",
    "        res2 = total\n",
    "        res1 = total + base_res\n",
    "    else:\n",
    "        res1 = total\n",
    "        res2 = total - base_res\n",
    "\n",
    "\n",
    "    return int(res1), int(res2)\n",
    "\n",
    "\n",
    "def get_round_robin_schedule(teams:list, num_cycles=2):\n",
    "    \"\"\" \n",
    "    get round robin schedule for teams\n",
    "    \"\"\" \n",
    "    if len(teams) % 2 != 0:\n",
    "        teams.append(None)\n",
    "    \n",
    "    num_rounds = len(teams) - 1\n",
    "    schedule = []\n",
    "    \n",
    "    for cycle in range(num_cycles):\n",
    "        matches = []\n",
    "        for round in range(num_rounds):\n",
    "            for i in range(len(teams)//2):\n",
    "                if teams[i] is None or teams[len(teams)-1-i] is None:\n",
    "                    continue\n",
    "\n",
    "                matches.append((teams[i], teams[len(teams)-1-i]))\n",
    "            \n",
    "            teams = [teams[0]] + [teams[-1]] + teams[1:len(teams)-1]\n",
    "        \n",
    "        if cycle != 0:\n",
    "            invert_m = []\n",
    "            for m in matches:\n",
    "                invert_m.append((m[1], m[0]))\n",
    "            matches = invert_m\n",
    "        \n",
    "        schedule.append(matches)\n",
    "    \n",
    "    return schedule\n",
    "\n",
    "def get_roudn_robin_match_results(teams_dct, total=0, sigma=2.5, num_cycles=2):\n",
    "    \"\"\"\n",
    "    get round robin match results for teams\n",
    "    \"\"\"\n",
    "    teams_lst = list(teams_dct.keys())\n",
    "    round_robin_schedule_lst = get_round_robin_schedule(teams_lst, num_cycles)\n",
    "\n",
    "    id1 = []\n",
    "    id2 = []\n",
    "    team1 = []\n",
    "    team2 = []\n",
    "    sc1 = []\n",
    "    sc2 = []\n",
    "    for round in round_robin_schedule_lst:\n",
    "        for pair in round:\n",
    "            res = get_match(\n",
    "                        teams_dct[pair[0]][1], \n",
    "                        teams_dct[pair[1]][1],\n",
    "                        total, sigma\n",
    "                            )\n",
    "            id1.append(pair[0])\n",
    "            id2.append(pair[1])\n",
    "            team1.append(teams_dct[pair[0]][0])\n",
    "            team2.append(teams_dct[pair[1]][0])\n",
    "            sc1.append(res[0])\n",
    "            sc2.append(res[1])\n",
    "    res_df = pd.DataFrame([id1, id2, team1, team2, sc1, sc2]).T\n",
    "    res_df.columns = ['id1', 'id2', 'team1', 'team2', 'score1', 'score2']\n",
    "\n",
    "    return res_df\n",
    "\n",
    "def get_round_robin_table(teams_dct, total=0, sigma=2.5, num_cycles=2):\n",
    "    \"\"\"\n",
    "    get round robin tournament table for teams\n",
    "    \"\"\"\n",
    "\n",
    "    res_df = get_roudn_robin_match_results(teams_dct, total, sigma, num_cycles)\n",
    "    res_df['points1'] = np.where(\n",
    "        res_df['score1'] > res_df['score2'], 3,\n",
    "        np.where(res_df['score1'] < res_df['score2'], 0, 1)\n",
    "                                )\n",
    "    res_df['points2'] = np.where(\n",
    "        res_df['score1'] > res_df['score2'], 0,\n",
    "        np.where(res_df['score1'] < res_df['score2'], 3, 1)\n",
    "                                )\n",
    "    \n",
    "    res_df['games'] = 1\n",
    "    \n",
    "    tournament_results_df_home = res_df.groupby(['id1', 'team1']).agg(\n",
    "                        {'score1': 'sum', 'points1': 'sum', 'games': 'sum'}\n",
    "                                                                ).reset_index()\n",
    "    tournament_results_df_away = res_df.groupby(['id2', 'team2']).agg(\n",
    "                        {'score2': 'sum', 'points2': 'sum', 'games': 'sum'}\n",
    "                                                                ).reset_index()\n",
    "    tournament_results_df_home.columns = ['id', 'team', 'score', 'points', 'games']\n",
    "    tournament_results_df_away.columns = ['id', 'team', 'score', 'points', 'games']\n",
    "\n",
    "    \n",
    "    tournament_results_df = tournament_results_df_home.merge(tournament_results_df_away, 'left', on=['id'], suffixes=['_home', '_away'])\n",
    "    tournament_results_df['points'] = tournament_results_df['points_home'] + tournament_results_df['points_away']\n",
    "    tournament_results_df['scored'] = tournament_results_df['score_home'] + tournament_results_df['score_away']\n",
    "    tournament_results_df['games'] = tournament_results_df['games_home'] + tournament_results_df['games_away']\n",
    "\n",
    "    tournament_results_df = tournament_results_df.sort_values(by=['points', 'scored'], ascending=False)\n",
    "\n",
    "\n",
    "    # return tournament_results_df_home, tournament_results_df_away, res_df\n",
    "    return tournament_results_df, res_df"
   ]
  },
  {
   "cell_type": "code",
   "execution_count": 63,
   "metadata": {},
   "outputs": [],
   "source": [
    "# small example teamset\n",
    "# 4 pairs of teams with approximately same rating\n",
    "# with huge gap between each other\n",
    "teams_dct = {\n",
    "    1: ['Barcelona', 2630, 1],\n",
    "    2: ['Real Madrid', 2600, 1],\n",
    "    3: ['Osasuna', 2420, 1],\n",
    "    4: ['Espanyol', 2330, 1],\n",
    "    # 5: ['Tenerife', 1800, 1],\n",
    "    # 6: ['Zaragoza', 1750, 1],\n",
    "    # 7: ['Ronaldo fun club', 1280, 1],\n",
    "    # 8: ['Messi fun club', 1200, 1],\n",
    "            }"
   ]
  },
  {
   "cell_type": "code",
   "execution_count": 64,
   "metadata": {},
   "outputs": [
    {
     "data": {
      "text/plain": [
       "(2, 0)"
      ]
     },
     "execution_count": 64,
     "metadata": {},
     "output_type": "execute_result"
    }
   ],
   "source": [
    "get_match(1000, 900, 0, 2.5)"
   ]
  },
  {
   "cell_type": "code",
   "execution_count": 65,
   "metadata": {},
   "outputs": [
    {
     "name": "stdout",
     "output_type": "stream",
     "text": [
      "before : [(1, 4), (2, 3), (1, 3), (4, 2), (1, 2), (3, 4)]\n",
      "after : [(1, 4), (2, 3), (1, 3), (4, 2), (1, 2), (3, 4)]\n",
      "before : [(1, 4), (2, 3), (1, 3), (4, 2), (1, 2), (3, 4)]\n",
      "after : [(4, 1), (3, 2), (3, 1), (2, 4), (2, 1), (4, 3)]\n"
     ]
    }
   ],
   "source": [
    "tournament_results_df, res_df = get_round_robin_table(teams_dct)"
   ]
  },
  {
   "cell_type": "code",
   "execution_count": null,
   "metadata": {},
   "outputs": [],
   "source": []
  },
  {
   "cell_type": "code",
   "execution_count": null,
   "metadata": {},
   "outputs": [],
   "source": []
  },
  {
   "cell_type": "code",
   "execution_count": null,
   "metadata": {},
   "outputs": [],
   "source": []
  },
  {
   "cell_type": "code",
   "execution_count": null,
   "metadata": {},
   "outputs": [],
   "source": []
  },
  {
   "cell_type": "code",
   "execution_count": null,
   "metadata": {},
   "outputs": [],
   "source": []
  },
  {
   "cell_type": "code",
   "execution_count": null,
   "metadata": {},
   "outputs": [],
   "source": []
  },
  {
   "cell_type": "code",
   "execution_count": null,
   "metadata": {},
   "outputs": [],
   "source": []
  },
  {
   "cell_type": "code",
   "execution_count": null,
   "metadata": {},
   "outputs": [],
   "source": []
  }
 ],
 "metadata": {
  "kernelspec": {
   "display_name": "Python 3",
   "language": "python",
   "name": "python3"
  },
  "language_info": {
   "codemirror_mode": {
    "name": "ipython",
    "version": 3
   },
   "file_extension": ".py",
   "mimetype": "text/x-python",
   "name": "python",
   "nbconvert_exporter": "python",
   "pygments_lexer": "ipython3",
   "version": "3.8.10"
  },
  "orig_nbformat": 4
 },
 "nbformat": 4,
 "nbformat_minor": 2
}
